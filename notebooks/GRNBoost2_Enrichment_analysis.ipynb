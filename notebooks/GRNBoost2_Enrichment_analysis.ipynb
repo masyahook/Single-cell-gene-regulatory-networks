{
 "cells": [
  {
   "cell_type": "code",
   "execution_count": null,
   "metadata": {},
   "outputs": [],
   "source": []
  },
  {
   "cell_type": "markdown",
   "metadata": {
    "pycharm": {
     "name": "#%% md\n"
    }
   },
   "source": [
    "##### Enrichment analysis"
   ]
  },
  {
   "cell_type": "code",
   "execution_count": 28,
   "metadata": {
    "pycharm": {
     "name": "#%%\n"
    }
   },
   "outputs": [
    {
     "data": {
      "application/vnd.jupyter.widget-view+json": {
       "model_id": "7b14c62fff554560b6b17b19d02a0b51",
       "version_major": 2,
       "version_minor": 0
      },
      "text/plain": [
       "interactive(children=(Dropdown(description='data', options=('Macrophage', 'T_cells', 'DC', 'Monocyte', 'NK_cel…"
      ]
     },
     "metadata": {},
     "output_type": "display_data"
    }
   ],
   "source": [
    "def prepare_gsea_ora(data, data_type, ora_top_n, top_n_dotplot):\n",
    "    \n",
    "    algo = 'leiden'\n",
    "    \n",
    "    if data_type == 'all':\n",
    "        df = pd.read_pickle(os.path.join(\n",
    "            _DATA_HOME, 'cell_types', data, 'data', 'grnboost2', f'{algo}_communities', \n",
    "            f'raw_data_communities_info.pickle'\n",
    "        ))\n",
    "    else:\n",
    "        df = pd.read_pickle(os.path.join(\n",
    "            _DATA_HOME, 'cell_types', data, 'data', 'grnboost2', f'{algo}_communities', \n",
    "            f'raw_data_{data_type}_type_communities_info.pickle'\n",
    "        ))\n",
    "\n",
    "    gsea_input = pd.concat([\n",
    "        pd.DataFrame({\n",
    "            'cluster': f'cluster_{i}',\n",
    "            'gene': [el[: el.find(' ')] for el in vals.split('; ')],\n",
    "            'centrality': [float(el[el.find('=') + 1:el.find(')')]) for el in vals.split('; ')]\n",
    "        }) for i, vals in df['all_sorted_genes'].iteritems()\n",
    "    ], axis=0).reset_index(drop=True)\n",
    "\n",
    "    ora_input = pd.concat([\n",
    "        pd.DataFrame({\n",
    "            'cluster': f'cluster_{i}',\n",
    "            'gene': [el[: el.find(' ')] for el in vals.split('; ')][:ora_top_n]\n",
    "        }) for i, vals in df['all_sorted_genes'].iteritems()\n",
    "    ], axis=0).reset_index(drop=True)\n",
    "    \n",
    "    gsea_input.to_csv('tmp/tmp_gsea_input.tsv', sep='\\t', index_label=False)\n",
    "    ora_input.to_csv('tmp/tmp_ora_input.tsv', sep='\\t', index_label=False)\n",
    "\n",
    "    print('Saved data, please run in terminal:')\n",
    "    print()\n",
    "    print('source(\"src/func.R\")')\n",
    "    print(r\"markers_df_ora <- read.table('tmp/tmp_ora_input.tsv', sep='\\t')\")\n",
    "    print(f'out_ora <- run_ora(markers_df_ora, is_clusters=T, '\n",
    "          f'cell_type_for_community_ana=\"{data} {data_type}\", top_n_dotplot={top_n_dotplot})')\n",
    "    print(r\"markers_df_gsea <- read.table('tmp/tmp_gsea_input.tsv', sep='\\t')\")\n",
    "    print(\"out_gsea <- run_gsea(markers_df_gsea, is_clusters=T)\")\n",
    "    print()\n",
    "    \n",
    "    \n",
    "widget = interactive(\n",
    "    prepare_gsea_ora, \n",
    "    {'manual': True},\n",
    "    data=['Macrophage', 'T_cells', 'DC', 'Monocyte', \n",
    "          'NK_cell', 'B_cell', 'Epithelial_cells', 'Neutrophils', \n",
    "          'Pre-B_cell_CD34-'], \n",
    "    ora_top_n=[50, 60, 40, 70, 30, 80, 20, 10],\n",
    "    data_type=['all', 'C', 'M', 'S'],\n",
    "    top_n_dotplot=[3, 5, 10]\n",
    ")\n",
    "display(widget)"
   ]
  },
  {
   "cell_type": "markdown",
   "metadata": {
    "pycharm": {
     "name": "#%% md\n"
    }
   },
   "source": [
    "##### Enrichr analysis"
   ]
  },
  {
   "cell_type": "code",
   "execution_count": 29,
   "metadata": {
    "pycharm": {
     "name": "#%%\n"
    },
    "tags": []
   },
   "outputs": [
    {
     "data": {
      "application/vnd.jupyter.widget-view+json": {
       "model_id": "01fae077060c433882ab4fcb4b24564f",
       "version_major": 2,
       "version_minor": 0
      },
      "text/plain": [
       "interactive(children=(Dropdown(description='data', options=('Macrophage', 'T_cells', 'DC', 'Monocyte', 'NK_cel…"
      ]
     },
     "metadata": {},
     "output_type": "display_data"
    }
   ],
   "source": [
    "def prepare_enrichr(data, data_type, top_n):\n",
    "    \n",
    "    algo = 'leiden'\n",
    "    \n",
    "    df = pd.read_pickle(\n",
    "        os.path.join(_DATA_HOME, 'cell_types', data, 'data', \n",
    "                     'grnboost2', f'{algo}_communities', f'raw_data_communities_info.pickle')\n",
    "    )\n",
    "\n",
    "    if data_type == 'all':\n",
    "        df = pd.read_pickle(os.path.join(\n",
    "            _DATA_HOME, 'cell_types', data, 'data', 'grnboost2', f'{algo}_communities', \n",
    "            f'raw_data_communities_info.pickle'\n",
    "        ))\n",
    "    else:\n",
    "        df = pd.read_pickle(os.path.join(\n",
    "            _DATA_HOME, 'cell_types', data, 'data', 'grnboost2', f'{algo}_communities', \n",
    "            f'raw_data_{data_type}_type_communities_info.pickle'\n",
    "        ))\n",
    "    \n",
    "    df_input = pd.concat([\n",
    "        pd.DataFrame({\n",
    "            'cluster': f'cluster_{i}',\n",
    "            'gene': [el[: el.find(' ')] for el in vals.split('; ')][:top_n]\n",
    "        }) for i, vals in df['all_sorted_genes'].iteritems()\n",
    "    ], axis=0).reset_index(drop=True)\n",
    "    \n",
    "    for cl in df_input['cluster'].unique():\n",
    "        x = df_input[df_input['cluster'] == cl]['gene']\n",
    "        print(colored(cl, 'cyan'))\n",
    "        print(' '.join(x))\n",
    "        print('\\n'.join(x))\n",
    "    \n",
    "widget = interactive(\n",
    "    prepare_enrichr, \n",
    "    {'manual': True},\n",
    "    data=['Macrophage', 'T_cells', 'DC', 'Monocyte', \n",
    "          'NK_cell', 'B_cell', 'Epithelial_cells', 'Neutrophils', \n",
    "          'Pre-B_cell_CD34-'], \n",
    "    data_type = ['all', 'C', 'M', 'S'],\n",
    "    top_n=[50, 60, 40, 70, 30, 80, 20, 10]\n",
    ")\n",
    "display(widget)"
   ]
  }
 ],
 "metadata": {
  "kernelspec": {
   "display_name": "Python 3",
   "language": "python",
   "name": "python3"
  },
  "language_info": {
   "codemirror_mode": {
    "name": "ipython",
    "version": 3
   },
   "file_extension": ".py",
   "mimetype": "text/x-python",
   "name": "python",
   "nbconvert_exporter": "python",
   "pygments_lexer": "ipython3",
   "version": "3.7.4"
  }
 },
 "nbformat": 4,
 "nbformat_minor": 4
}
