{
 "cells": [
  {
   "cell_type": "code",
   "execution_count": null,
   "metadata": {},
   "outputs": [],
   "source": []
  },
  {
   "cell_type": "markdown",
   "metadata": {
    "pycharm": {
     "name": "#%% md\n"
    },
    "tags": []
   },
   "source": [
    "#### FINDING COMMUNITIES"
   ]
  },
  {
   "cell_type": "code",
   "execution_count": 17,
   "metadata": {
    "pycharm": {
     "name": "#%%\n"
    },
    "tags": []
   },
   "outputs": [
    {
     "data": {
      "application/vnd.jupyter.widget-view+json": {
       "model_id": "893be9620f084de4909f091ed8ce8d36",
       "version_major": 2,
       "version_minor": 0
      },
      "text/plain": [
       "interactive(children=(Dropdown(description='Patient:', options=(('all_data', 'all_data'), ('C', 'C'), ('M', 'M…"
      ]
     },
     "metadata": {},
     "output_type": "display_data"
    },
    {
     "name": "stdout",
     "output_type": "stream",
     "text": [
      "CPU times: user 381 ms, sys: 101 ms, total: 482 ms\n",
      "Wall time: 999 ms\n"
     ]
    }
   ],
   "source": [
    "%%time\n",
    "def plot_communities(pat, data_type, data, algo, anno_db, wordcloud_display, save_fig):\n",
    "    \n",
    "    seed = 42\n",
    "    # dtype_title = _DTYPE_TITLES[_NET_TYPES.index(data_type)]\n",
    "    # data_title = _ALL_TITLES[pat][_ALL_FILE_PREFIXES[pat].index(data)]\n",
    "    \n",
    "    try:\n",
    "        G = grnboost2_meta[pat][data][f'graph_{data_type}']\n",
    "    except KeyError:\n",
    "        G = get_nx_graph(data, data_type, pat=pat, get_filtered=_Q_THRESH)\n",
    "        \n",
    "    print(f'The chosen graph for pat={colored(pat, \"red\")}, data={colored(data, \"red\")}, data_type={colored(data_type, \"red\")}:')\n",
    "    print(f'Number of nodes: {colored(G.number_of_nodes(), \"cyan\")}; Number of edges: {colored(G.number_of_edges(), \"cyan\")}')\n",
    "        \n",
    "    if algo == 'louvain':\n",
    "        partition = community_louvain.best_partition(G.to_undirected(), weight='importance', random_state=seed)\n",
    "    else:\n",
    "        G_igraph = ig.Graph.from_networkx(G.to_undirected())\\b\n",
    "        la_partition = la.find_partition(G_igraph, la.ModularityVertexPartition, weights='importance', seed=seed)\n",
    "        partition = {G_igraph.vs[node]['_nx_name']: i for i, cluster_nodes in enumerate(la_partition) for node in cluster_nodes}\n",
    "\n",
    "    num_partitions = len(set(partition.values()))\n",
    "    print(f'Number of partitions using {algo} algorithm: {colored(num_partitions, \"cyan\")}')\n",
    "        \n",
    "    f, ax = plt.subplots(figsize=(25, 45))\n",
    "    cmap = ListedColormap(sns.color_palette(cc.glasbey_bw, n_colors=num_partitions).as_hex())\n",
    "    \n",
    "    # Getting positions of squeezed graph\n",
    "    squeezed_G, squeezed_partition = squeeze_graph(G, partition)\n",
    "    print('Computed a squeezed graph representation..')\n",
    "    \n",
    "    squeezed_pos = netgraph_community_layout(squeezed_G, squeezed_partition, seed=seed)  # nx.nx_agraph.pygraphviz_layout(G.to_undirected(), prog=\"sfdp\")  # nx.nx.spring_layout(G, seed=seed, k=0.2, iterations=20)\n",
    "    print('Computed node positions of the squeezed graph representation..')\n",
    "    plot_cloud(G, partition, squeezed_pos, ax=ax, anno_db=anno_db, \n",
    "               filter_genes=True, limit_anno_until=50, \n",
    "               display_func=True if wordcloud_display == 'funcs' else False)\n",
    "    print('Finished plotting a word cloud..')\n",
    "    nx.draw(squeezed_G, squeezed_pos, ax=ax, arrowstyle=\"->\", arrowsize=20, connectionstyle=f'arc3, rad = 0.25', edge_color='k', width=0.4, node_color='k', node_size=50, alpha=0.01)\n",
    "    nx.draw_networkx_nodes(squeezed_G, squeezed_pos, ax=ax, node_size=100, nodelist=list(squeezed_partition.keys()), node_color=list(squeezed_partition.values()), cmap=cmap, alpha=0.01)\n",
    "    print('Finished plotting gene nodes..')\n",
    "    ax.set_title(f'Found communities ({pat}, {data_type}, {data})', fontsize=30)\n",
    "    \n",
    "    plt.axis('off')\n",
    "    \n",
    "    if save_fig:\n",
    "        plt.savefig(os.path.join(_ALL_FIG_DIRS[pat], f\"{pat}_{data}_{data_type}_communities_{wordcloud_display}.png\"), bbox_inches='tight', dpi=400)\n",
    "    \n",
    "def annotate_option(pat, data):\n",
    "    if pat in ['all_data', 'C', 'M', 'S']:\n",
    "        curr_meta = full_meta[full_meta['group'] == pat] if pat != 'all_data' else full_meta\n",
    "        if data != 'all_data':\n",
    "            col_key = data.replace(\"raw_data_\", \"\")\n",
    "        else:\n",
    "            col_key = 'num_cells'\n",
    "        return f'{data} ({int(curr_meta[col_key].sum())} cells)'\n",
    "    else:\n",
    "        if data != 'all_data':\n",
    "            col_key = data.replace(\"raw_data_\", \"\")\n",
    "        else:\n",
    "            col_key = 'num_cells'\n",
    "        return f'{data} ({int(full_meta.loc[pat, col_key])} cells)' \n",
    "        \n",
    "def pick_pat_dtypes(_):\n",
    "    data_dropdown.options = [(annotate_option(pat_dropdown.value, data), data) for data in get_avail_list(dtype_dropdown.value, pat_dropdown.value)]\n",
    "      \n",
    "dtype_dropdown = Dropdown(description='Data type:', options=_NET_TYPES)\n",
    "pat_dropdown = Dropdown(description='Patient:', options=[(f\"{p}{' (' + full_meta.loc[p, 'group'] + ')' if p not in ['all_data'] + _PAT_TYPES else ''}\", p) for p in _AVAIL_Gs['all'].index])\n",
    "data_dropdown = Dropdown(description='Data:', options=[(annotate_option('all_data', data), data) for data in get_avail_list('all', 'all_data')])\n",
    "pat_dropdown.observe(pick_pat_dtypes, names='value')\n",
    "dtype_dropdown.observe(pick_pat_dtypes, names='value')\n",
    "        \n",
    "widget = interactive(\n",
    "    plot_communities, \n",
    "    {'manual': True},\n",
    "    pat=pat_dropdown, \n",
    "    data_type=dtype_dropdown, \n",
    "    data=data_dropdown,\n",
    "    algo=['leiden', 'louvain'],\n",
    "    anno_db=['GO', 'hallmark', 'KEGG', 'immunological'],\n",
    "    wordcloud_display=['funcs', 'genes'],\n",
    "    save_fig=[False, True]\n",
    ")\n",
    "display(widget)"
   ]
  },
  {
   "cell_type": "markdown",
   "metadata": {
    "pycharm": {
     "name": "#%% md\n"
    },
    "tags": []
   },
   "source": [
    "#### COMMUNITY ANALYSIS"
   ]
  },
  {
   "cell_type": "markdown",
   "metadata": {
    "pycharm": {
     "name": "#%% md\n"
    }
   },
   "source": [
    "##### General stats"
   ]
  },
  {
   "cell_type": "code",
   "execution_count": 27,
   "metadata": {
    "pycharm": {
     "name": "#%%\n"
    }
   },
   "outputs": [
    {
     "data": {
      "application/vnd.jupyter.widget-view+json": {
       "model_id": "9426f3b95c5143a79d52e0a374c7aeee",
       "version_major": 2,
       "version_minor": 0
      },
      "text/plain": [
       "interactive(children=(Dropdown(description='Data:', options=(('all_data (60541 cells)', 'all_data'), ('Macroph…"
      ]
     },
     "metadata": {},
     "output_type": "display_data"
    }
   ],
   "source": [
    "def community_ana_agg(data, db, save_fig):\n",
    "    \n",
    "    import textwrap\n",
    "    \n",
    "    top_n = 10\n",
    "    seed = 42\n",
    "    sns.set_style(\"whitegrid\")\n",
    "    n_bins = 100\n",
    "    algo = 'leiden'\n",
    "    len_wrap = 100\n",
    "    \n",
    "    wrap_text = lambda x: '\\n    '.join(textwrap.wrap(x, width=len_wrap))\n",
    "        \n",
    "    # Loading data\n",
    "    data_folder = 'all_data' if data == 'raw_data' else data.replace('raw_data_', '')\n",
    "\n",
    "    data_to = os.path.join(_DATA_HOME, 'cell_types', data_folder, 'data', 'grnboost2', f'{algo}_communities')\n",
    "        \n",
    "    data_all = pd.read_pickle(os.path.join(data_to, f'raw_data_communities_info.pickle'))\n",
    "    data_C, data_M, data_S = [\n",
    "        pd.read_pickle(os.path.join(data_to, f'raw_data_{pat}_type_communities_info.pickle')) for pat in ['C', 'M', 'S']\n",
    "    ]\n",
    "    \n",
    "    print(f'STATS FOR {data.upper()}')\n",
    "    print()\n",
    "    for curr_type in ['all', 'C', 'M', 'S']:\n",
    "        curr = eval(f'data_{curr_type}')\n",
    "        print(f'Overall the {colored(annotate_option(curr_type, data) + f\" {curr_type}\", \"cyan\")} contains {colored(str(len(curr)), \"cyan\")} clusters..')\n",
    "        print('The number of nodes and edges in each cluster:')\n",
    "        display(pd.DataFrame(curr[['num_nodes', 'num_edges']]).T.assign(sum=curr[['num_nodes', 'num_edges']].sum()))\n",
    "    print()\n",
    "    print(colored(f'Top {top_n} main functions according to {db}:', 'cyan'))\n",
    "    for i in range(len(data_all)):\n",
    "        print(wrap_text(f'{colored(i, \"cyan\")} --> ' + ' '.join(\n",
    "            re.findall(r'>>>.*?<<<', data_all.loc[i, f'main_functions_{db}'])[:top_n]\n",
    "        ).replace('>>', '').replace('<<', '')))\n",
    "    print()\n",
    "        \n",
    "    print(colored(f'Top {top_n} main genes:', 'cyan'))\n",
    "    doro_c, lamb_c, both_c = 'green', 'red', 'magenta'\n",
    "    print(f\"{colored('DoRothEA TFs', doro_c)}, {colored('Lambert TFs', lamb_c)}, {colored('DoRothEA+Lambert TFs', both_c)}\")\n",
    "    for i in range(len(data_all)):\n",
    "        top_genes = list(map(lambda x: x[:x.find(' ')], data_all['sorted_central_genes_scores'][i].split('; ')))[:top_n]\n",
    "        top_scores = list(map(lambda x: x[x.find('(') + 1:x.find(')')], data_all['sorted_central_genes_scores'][i].split('; ')))[:top_n]\n",
    "        out = f'{colored(i, \"cyan\")} --> '\n",
    "        for g, s in zip(top_genes, top_scores):\n",
    "            if g in lambert_TF_names and g in dorothea_TF_names:\n",
    "                out += f'{colored(g, both_c)} ({s}), '\n",
    "            elif g not in lambert_TF_names and g in dorothea_TF_names:\n",
    "                out += f'{colored(g, doro_c)} ({s}), '\n",
    "            elif g in lambert_TF_names and g not in dorothea_TF_names:\n",
    "                out += f'{colored(g, lamb_c)} ({s}), '\n",
    "            else:\n",
    "                out += f'{g} ({s}), '\n",
    "        print(wrap_text(out[:-2]))\n",
    "    print()\n",
    "    \n",
    "    print(colored(f'Top {top_n} newly-discovered gene-gene link using KEGG', 'cyan'))\n",
    "    norm_c, doro_c, lamb_c, both_c = 'yellow', 'green', 'red', 'magenta'\n",
    "    print(f\"{colored('Regular', norm_c)}, {colored('DoRothEA TFs', doro_c)}, {colored('Lambert TFs', lamb_c)}, {colored('DoRothEA+Lambert TFs', both_c)}\")\n",
    "    for i in range(len(data_all)):\n",
    "        top_links = [\n",
    "            (l[:l.find(' ')], l[l.find('>') + 1:l.rfind('(') - 1]) \\\n",
    "                for k, l in enumerate(data_all['new_gene_gene_links_KEGG'][i].split('; ')) if k < top_n\n",
    "        ]\n",
    "        top_annos = [\n",
    "            (l[l.find('('): l.find(')') + 1], l[l.rfind('('): l.rfind(')') + 1]) \\\n",
    "                for l in data_all['new_gene_gene_links_KEGG'][i].split('; ')\n",
    "        ]\n",
    "        out = f'{colored(i, \"cyan\")} --> '\n",
    "        for l, a in zip(top_links, top_annos):\n",
    "            if l[0] in lambert_TF_names and l[0] in dorothea_TF_names:\n",
    "                out += f'{colored(l[0], both_c)} {a[0]} '\n",
    "            elif l[0] not in lambert_TF_names and l[0] in dorothea_TF_names:\n",
    "                out += f'{colored(l[0], doro_c)} {a[0]} '\n",
    "            elif l[0] in lambert_TF_names and l[0] not in dorothea_TF_names:\n",
    "                out += f'{colored(l[0], lamb_c)} {a[0]} '\n",
    "            else:\n",
    "                out += f'{colored(l[0], norm_c)} {a[0]} '\n",
    "                \n",
    "            out += '<-> '\n",
    "            \n",
    "            if l[1] in lambert_TF_names and l[1] in dorothea_TF_names:\n",
    "                out += f'{colored(l[1], both_c)} {a[1]} '\n",
    "            elif l[1] not in lambert_TF_names and l[1] in dorothea_TF_names:\n",
    "                out += f'{colored(l[1], doro_c)} {a[1]} '\n",
    "            elif l[1] in lambert_TF_names and l[1] not in dorothea_TF_names:\n",
    "                out += f'{colored(l[1], lamb_c)} {a[1]} '\n",
    "            else:\n",
    "                out += f'{colored(l[1], norm_c)} {a[1]} '\n",
    "        print(wrap_text(out[:-1]))\n",
    "    print()\n",
    "    print()\n",
    "        \n",
    "    for pat in ['C', 'M', 'S']:\n",
    "        curr_d = eval(f'data_{pat}')\n",
    "        #print(colored(f'Top {top_n} main functions according to {db}:', 'cyan'))\n",
    "        #for i in range(len(curr_d)):\n",
    "        #    print(f'{colored(i, \"cyan\")} --> ' + ' '.join(\n",
    "        #        re.findall(r'>>>.*?<<<', curr_d.loc[i, f'main_functions_{db}'])[:top_n]\n",
    "        #    ).replace('>>', '').replace('<<', ''))\n",
    "        # \n",
    "        print(f\"{colored(f'Top {top_n} main genes for type:', 'cyan')} {colored(pat, 'red')}\")\n",
    "        doro_c, lamb_c, both_c = 'green', 'red', 'magenta'\n",
    "        print(f\"{colored('DoRothEA TFs', doro_c)}, {colored('Lambert TFs', lamb_c)}, {colored('DoRothEA+Lambert TFs', both_c)}\")\n",
    "        for i in range(len(curr_d)):\n",
    "            top_genes = list(map(lambda x: x[:x.find(' ')], curr_d['sorted_central_genes_scores'][i].split('; ')))[:top_n]\n",
    "            top_scores = list(map(lambda x: x[x.find('(') + 1:x.find(')')], curr_d['sorted_central_genes_scores'][i].split('; ')))[:top_n]\n",
    "            out = f'{colored(i, \"cyan\")} --> '\n",
    "            for g, s in zip(top_genes, top_scores):\n",
    "                if g in lambert_TF_names and g in dorothea_TF_names:\n",
    "                    out += f'{colored(g, both_c)} ({s}), '\n",
    "                elif g not in lambert_TF_names and g in dorothea_TF_names:\n",
    "                    out += f'{colored(g, doro_c)} ({s}), '\n",
    "                elif g in lambert_TF_names and g not in dorothea_TF_names:\n",
    "                    out += f'{colored(g, lamb_c)} ({s}), '\n",
    "                else:\n",
    "                    out += f'{g} ({s}), '\n",
    "            print(wrap_text(out[:-2]))\n",
    "            \n",
    "    print()\n",
    "    print()\n",
    "    print(colored(f'Top {top_n} main genes in the whole network:', 'cyan'))\n",
    "    doro_c, lamb_c, both_c = 'green', 'red', 'magenta'\n",
    "    print(f\"{colored('DoRothEA TFs', doro_c)}, {colored('Lambert TFs', lamb_c)}, {colored('DoRothEA+Lambert TFs', both_c)}\")\n",
    "    top_genes = list(map(lambda x: x[:x.find(' ')], data_all['whole_G_central_genes_scores'][0].split('; ')))[:top_n]\n",
    "    top_scores = list(map(lambda x: x[x.find('(') + 1:x.find(')')], data_all['whole_G_central_genes_scores'][0].split('; ')))[:top_n]\n",
    "    out = f'{colored(i, \"cyan\")} --> '\n",
    "    for g, s in zip(top_genes, top_scores):\n",
    "        if g in lambert_TF_names and g in dorothea_TF_names:\n",
    "            out += f'{colored(g, both_c)} ({s}), '\n",
    "        elif g not in lambert_TF_names and g in dorothea_TF_names:\n",
    "            out += f'{colored(g, doro_c)} ({s}), '\n",
    "        elif g in lambert_TF_names and g not in dorothea_TF_names:\n",
    "            out += f'{colored(g, lamb_c)} ({s}), '\n",
    "        else:\n",
    "            out += f'{g} ({s}), '\n",
    "    print(wrap_text(out[:-2]))\n",
    "    print()\n",
    "    print()\n",
    "    print(colored(f'Top inter-community links (central genes):', 'cyan'))\n",
    "    display(data_all.iloc[:, -2*len(data_all):-len(data_all)])\n",
    "    print()\n",
    "    print(colored(f'Top inter-community links:', 'cyan'))\n",
    "    display(data_all.iloc[:, -len(data_all):])\n",
    "    print(f'The input all-patient merged data:')\n",
    "    display(data_all)\n",
    "        \n",
    "\n",
    "def annotate_option(pat, data):\n",
    "    if pat in ['all_data', 'all', 'C', 'M', 'S']:\n",
    "        pat = 'all_data' if pat == 'all' else pat\n",
    "        curr_meta = full_meta if pat == 'all_data' else full_meta[full_meta['group'] == pat]\n",
    "        if data == 'all_data' or data == 'raw_data':\n",
    "            col_key = 'num_cells'\n",
    "        else:\n",
    "            col_key = data.replace(\"raw_data_\", \"\")\n",
    "        return f'{data} ({int(curr_meta[col_key].sum())} cells)'\n",
    "    else:\n",
    "        if data == 'all_data' or data == 'raw_data':\n",
    "            col_key = 'num_cells'\n",
    "        else:\n",
    "            col_key = data.replace(\"raw_data_\", \"\")\n",
    "        return f'{data} ({int(full_meta.loc[pat, col_key])} cells)' \n",
    "        \n",
    "data_dropdown = Dropdown(description='Data:', options=[(annotate_option('all_data', data), data) for data in ['all_data', 'Macrophage', 'T_cells', 'DC', 'Monocyte', 'NK_cell', 'B_cell', 'Epithelial_cells', 'Neutrophils', 'Pre-B_cell_CD34-']])\n",
    "        \n",
    "widget = interactive(\n",
    "    community_ana_agg, \n",
    "    {'manual': True},\n",
    "    data=data_dropdown,\n",
    "    db=['KEGG', 'GO', 'hallmark', 'immunological'],\n",
    "    save_fig=[False, True]\n",
    ")\n",
    "display(widget)"
   ]
  },
  {
   "cell_type": "code",
   "execution_count": 159,
   "metadata": {
    "pycharm": {
     "name": "#%%\n"
    }
   },
   "outputs": [
    {
     "data": {
      "image/png": "[encoded data removed]",
      "text/plain": [
       "<Figure size 1080x360 with 1 Axes>"
      ]
     },
     "metadata": {},
     "output_type": "display_data"
    }
   ],
   "source": [
    "curr_type = 'Monocyte'\n",
    "algo = 'leiden'\n",
    "curr_data = 'data_all'\n",
    "\n",
    "data_to = os.path.join(_DATA_HOME, 'cell_types', curr_type, 'data', 'grnboost2', f'{algo}_communities')\n",
    "\n",
    "data_all = pd.read_pickle(os.path.join(data_to, f'raw_data_communities_info.pickle'))\n",
    "data_C, data_M, data_S = [\n",
    "    pd.read_pickle(os.path.join(data_to, f'raw_data_{pat}_type_communities_info.pickle')) for pat in ['C', 'M', 'S']\n",
    "]\n",
    "\n",
    "data_to_plot = eval(curr_data)\n",
    "\n",
    "with sns.axes_style(\"white\"):\n",
    "    f, ax = plt.subplots(figsize=(15, 5))\n",
    "    data_to_plot['num_nodes'].plot(kind='bar', ax=ax, rot=0, color=colors['saturated_green'])\n",
    "    plt.xlabel('Cluster', fontsize=20)\n",
    "    plt.ylabel('Number of nodes', fontsize=20)\n",
    "    ax.tick_params(axis='both', which='major', labelsize=20)\n",
    "    plt.grid(True)\n",
    "    plt.savefig(f'tmp/tmp_{curr_type}_cluster_node_count.pdf', bbox_inches='tight')"
   ]
  },
  {
   "cell_type": "code",
   "execution_count": 86,
   "metadata": {
    "pycharm": {
     "name": "#%%\n"
    }
   },
   "outputs": [
    {
     "data": {
      "image/png": "[encoded data removed]",
      "text/plain": [
       "<Figure size 1080x360 with 1 Axes>"
      ]
     },
     "metadata": {},
     "output_type": "display_data"
    }
   ],
   "source": [
    "def get_num_cells(pat, data):\n",
    "    if pat in ['all_data', 'C', 'M', 'S']:\n",
    "        curr_meta = full_meta[full_meta['group'] == pat] if pat != 'all_data' else full_meta\n",
    "        if data != 'all_data':\n",
    "            col_key = data.replace(\"raw_data_\", \"\")\n",
    "        else:\n",
    "            col_key = 'num_cells'\n",
    "        return int(curr_meta[col_key].sum())\n",
    "    else:\n",
    "        if data != 'all_data':\n",
    "            col_key = data.replace(\"raw_data_\", \"\")\n",
    "        else:\n",
    "            col_key = 'num_cells'\n",
    "        return int(full_meta.loc[pat, col_key])\n",
    "    \n",
    "cell_types = ['T_cells', 'Macrophage', 'NK_cell', 'Monocyte']\n",
    "titles = dict(zip(\n",
    "    cell_types,\n",
    "    [f'T cells ({get_num_cells(\"all_data\", \"T_cells\")})', f'Macrophages ({get_num_cells(\"all_data\", \"Macrophage\")})', \n",
    "     f'NK cells ({get_num_cells(\"all_data\", \"NK_cell\")})', f'Monocytes ({get_num_cells(\"all_data\", \"Monocyte\")})']\n",
    "))\n",
    "algo = 'leiden'\n",
    "curr_data = 'data_all'\n",
    "\n",
    "with sns.axes_style(\"white\"):\n",
    "    \n",
    "    df = pd.concat([\n",
    "        pd.read_pickle(os.path.join(\n",
    "            _DATA_HOME, 'cell_types', curr_type, 'data', 'grnboost2', f'{algo}_communities', 'raw_data_communities_info.pickle'\n",
    "        ))['num_nodes'].rename(curr_type) for curr_type in cell_types\n",
    "    ], axis=1).fillna(0).rename(columns=titles).assign(new_index=range(1, 22)).set_index('new_index')\n",
    "    \n",
    "    f, ax = plt.subplots(figsize=(15, 5))\n",
    "    \n",
    "    df.plot(kind='bar', stacked=True, ax=ax, rot=0)\n",
    "    \n",
    "    plt.xlabel('Cluster', fontsize=20)\n",
    "    plt.ylabel('Number of nodes', fontsize=20)\n",
    "    ax.tick_params(axis='both', which='major', labelsize=20)\n",
    "    plt.grid(True)\n",
    "    plt.legend()\n",
    "    plt.savefig(f'tmp/tmp_cluster_node_count.pdf', bbox_inches='tight')"
   ]
  },
  {
   "cell_type": "code",
   "execution_count": 74,
   "metadata": {
    "pycharm": {
     "name": "#%%\n"
    }
   },
   "outputs": [
    {
     "data": {
      "application/vnd.jupyter.widget-view+json": {
       "model_id": "12c2e2860f194894b073611c5cbcb133",
       "version_major": 2,
       "version_minor": 0
      },
      "text/plain": [
       "interactive(children=(Dropdown(description='data', options=('Macrophage', 'T_cells', 'DC', 'Monocyte', 'NK_cel…"
      ]
     },
     "metadata": {},
     "output_type": "display_data"
    }
   ],
   "source": [
    "from src.func import *\n",
    "%autoreload 2\n",
    "def resave_plot(data, data_type, plot_type, save_fig, save_fig_title):\n",
    "    \n",
    "    algo = 'leiden'\n",
    "    limit_anno_until = 50\n",
    "    G_size_to_plot = 2000\n",
    "    seed = 42\n",
    "        \n",
    "    # Loading the gene functional annotation\n",
    "    anno_db_tags = ['GO', 'KEGG', 'immunological', 'hallmark']\n",
    "    gene_func_dbs = {tag: load_gene_func_db(tag, as_series=True) for tag in anno_db_tags}\n",
    "    \n",
    "    # Loading graph\n",
    "    G = get_nx_graph(data=data, data_type='all', get_filtered=_Q_THRESH)\n",
    "    print('Loaded the graph..')\n",
    "    \n",
    "    # Getting partitions\n",
    "    if algo == 'louvain':\n",
    "        partition = community_louvain.best_partition(G.to_undirected(), weight='importance', random_state=seed)\n",
    "    elif algo == 'leiden':\n",
    "        G_igraph = ig.Graph.from_networkx(G.to_undirected())\n",
    "        la_partition = la.find_partition(G_igraph, la.ModularityVertexPartition, weights='importance', seed=seed)\n",
    "        partition = {G_igraph.vs[node]['_nx_name']: i for i, cluster_nodes in enumerate(la_partition) for node in cluster_nodes}\n",
    "    else:\n",
    "        raise NotImplementedError\n",
    "        \n",
    "    print('Computed partition..')\n",
    "        \n",
    "    num_partitions = len(set(partition.values()))\n",
    "    \n",
    "    df = pd.read_pickle(\n",
    "        os.path.join(_DATA_HOME, 'cell_types', data, 'data', \n",
    "                     'grnboost2', f'{algo}_communities', f'raw_data_communities_info.pickle')\n",
    "    )\n",
    "\n",
    "    if data_type == 'all':\n",
    "        df = pd.read_pickle(os.path.join(\n",
    "            _DATA_HOME, 'cell_types', data, 'data', 'grnboost2', f'{algo}_communities', \n",
    "            f'raw_data_communities_info.pickle'\n",
    "        ))\n",
    "    else:\n",
    "        df = pd.read_pickle(os.path.join(\n",
    "            _DATA_HOME, 'cell_types', data, 'data', 'grnboost2', f'{algo}_communities', \n",
    "            f'raw_data_{data_type}_type_communities_info.pickle'\n",
    "        ))  \n",
    "    print('Loaded pre-computed results..')\n",
    "    \n",
    "    # Getting positions of squeezed graph - we do not plot every gene on the figure\n",
    "    squeezed_G, squeezed_partition = squeeze_graph(G, partition, approximate_size=G_size_to_plot)\n",
    "    squeezed_pos = nx.nx.spring_layout(G, seed=seed, k=0.2, iterations=20)\n",
    "\n",
    "    # squeezed_pos = netgraph_community_layout(squeezed_G, squeezed_partition, seed=seed)  # nx.nx_agraph.pygraphviz_layout(G.to_undirected(), prog=\"sfdp\")  # nx.nx.spring_layout(G, seed=seed, k=0.2, iterations=20)\n",
    "\n",
    "    print('Started plotting..')\n",
    "    f, ax = plt.subplots(figsize=(20, 20))\n",
    "\n",
    "    nx.draw(squeezed_G, squeezed_pos, ax=ax, arrowstyle=\"->\", arrowsize=20, \n",
    "            connectionstyle=f'arc3, rad = 0.25', edge_color='gray', width=0.4, \n",
    "            node_color='k', node_size=50, alpha=0.01)\n",
    "    nx.draw_networkx_nodes(squeezed_G, squeezed_pos, ax=ax, node_size=100, \n",
    "                           nodelist=list(squeezed_partition.keys()), \n",
    "                           node_color='gray', \n",
    "                           alpha=0.1)\n",
    "\n",
    "    ax.set_title(f'Found communities ({pat}, \"all\", {data}), '\n",
    "                 f'annotation - {plot_type}', \n",
    "                 fontsize=30)\n",
    "    plt.axis('off')\n",
    "    print('Finished plotting..')\n",
    "\n",
    "    if save_fig:\n",
    "        plt.savefig(f'tmp/{save_fig_title}.pdf', bbox_inches='tight')\n",
    "        \n",
    "widget = interactive(\n",
    "    resave_plot, \n",
    "    {'manual': True},\n",
    "    data=['Macrophage', 'T_cells', 'DC', 'Monocyte', \n",
    "          'NK_cell', 'B_cell', 'Epithelial_cells', 'Neutrophils', \n",
    "          'Pre-B_cell_CD34-'], \n",
    "    data_type = ['all', 'C', 'M', 'S'],\n",
    "    plot_type = ['genes', 'func_GO', 'func_KEGG', 'func_immunological', 'func_hallmark'],\n",
    "    save_fig = [True, False],\n",
    "    save_fig_title = 'tmp_wordcloud_example_1'\n",
    ")\n",
    "display(widget)"
   ]
  }
 ],
 "metadata": {
  "kernelspec": {
   "display_name": "Python 3",
   "language": "python",
   "name": "python3"
  },
  "language_info": {
   "codemirror_mode": {
    "name": "ipython",
    "version": 3
   },
   "file_extension": ".py",
   "mimetype": "text/x-python",
   "name": "python",
   "nbconvert_exporter": "python",
   "pygments_lexer": "ipython3",
   "version": "3.7.4"
  },
  "widgets": {
   "application/vnd.jupyter.widget-state+json": {
    "state": {},
    "version_major": 2,
    "version_minor": 0
   }
  }
 },
 "nbformat": 4,
 "nbformat_minor": 4
}
